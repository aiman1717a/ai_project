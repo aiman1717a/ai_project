{
  "nbformat": 4,
  "nbformat_minor": 0,
  "metadata": {
    "colab": {
      "name": "fruits classifier.ipynb",
      "version": "0.3.2",
      "provenance": [],
      "collapsed_sections": [],
      "include_colab_link": true
    },
    "language_info": {
      "codemirror_mode": {
        "name": "ipython",
        "version": 3
      },
      "file_extension": ".py",
      "mimetype": "text/x-python",
      "name": "python",
      "nbconvert_exporter": "python",
      "pygments_lexer": "ipython3",
      "version": "3.7.3"
    },
    "kernelspec": {
      "name": "python3",
      "display_name": "Python 3"
    },
    "accelerator": "GPU"
  },
  "cells": [
    {
      "cell_type": "markdown",
      "metadata": {
        "id": "view-in-github",
        "colab_type": "text"
      },
      "source": [
        "<a href=\"https://colab.research.google.com/github/aiman1717a/ai_project/blob/master/fruits_classifier.ipynb\" target=\"_parent\"><img src=\"https://colab.research.google.com/assets/colab-badge.svg\" alt=\"Open In Colab\"/></a>"
      ]
    },
    {
      "cell_type": "code",
      "metadata": {
        "id": "nKiH5qo0Jy0j",
        "colab_type": "code",
        "outputId": "24eac398-5122-409e-bbf6-50e3ea53d143",
        "colab": {
          "base_uri": "https://localhost:8080/",
          "height": 34
        }
      },
      "source": [
        "from keras.applications import VGG16\n",
        "from keras.utils.vis_utils import plot_model\n",
        "from keras.preprocessing.image import ImageDataGenerator, array_to_img, img_to_array, load_img\n",
        "from keras.applications.vgg16 import preprocess_input\n",
        "from keras.applications.vgg16 import decode_predictions\n",
        "from keras.optimizers import SGD\n",
        "\n",
        "from keras.models import Sequential, load_model\n",
        "from keras.layers import Conv2D, MaxPooling2D\n",
        "from keras.layers import Activation, Dropout, Flatten, Dense\n",
        "import matplotlib.pyplot as plt\n",
        "import numpy as np"
      ],
      "execution_count": 2,
      "outputs": [
        {
          "output_type": "stream",
          "text": [
            "Using TensorFlow backend.\n"
          ],
          "name": "stderr"
        }
      ]
    },
    {
      "cell_type": "code",
      "metadata": {
        "id": "EIoD4npAz7Im",
        "colab_type": "code",
        "colab": {}
      },
      "source": [
        "#Initial code\n",
        "img_width, img_height = 224, 224\n",
        "train_data_dir = 'ai_project/fruits_dataset/Training'\n",
        "validation_data_dir = 'ai_project/fruits_dataset/Valid'\n",
        "test_data_dir = 'ai_project/fruits_dataset/Test'"
      ],
      "execution_count": 0,
      "outputs": []
    },
    {
      "cell_type": "code",
      "metadata": {
        "id": "99K46-eIJy0n",
        "colab_type": "code",
        "outputId": "635bdc61-5b41-4aa8-f77e-a510c537877d",
        "colab": {
          "base_uri": "https://localhost:8080/",
          "height": 122
        }
      },
      "source": [
        "vgg16 = VGG16(weights='imagenet',\n",
        "                  include_top=False,\n",
        "                  input_shape=(224, 224, 3))"
      ],
      "execution_count": 4,
      "outputs": [
        {
          "output_type": "stream",
          "text": [
            "WARNING:tensorflow:From /usr/local/lib/python3.6/dist-packages/tensorflow/python/framework/op_def_library.py:263: colocate_with (from tensorflow.python.framework.ops) is deprecated and will be removed in a future version.\n",
            "Instructions for updating:\n",
            "Colocations handled automatically by placer.\n",
            "Downloading data from https://github.com/fchollet/deep-learning-models/releases/download/v0.1/vgg16_weights_tf_dim_ordering_tf_kernels_notop.h5\n",
            "58892288/58889256 [==============================] - 2s 0us/step\n"
          ],
          "name": "stdout"
        }
      ]
    },
    {
      "cell_type": "code",
      "metadata": {
        "id": "ptVytJBjSbfa",
        "colab_type": "code",
        "outputId": "18b4e222-cd6e-44be-9d58-0317e079a073",
        "colab": {
          "base_uri": "https://localhost:8080/",
          "height": 340
        }
      },
      "source": [
        "for layer in vgg16.layers:\n",
        "    print(layer.name + \" = \" + str(layer.trainable))"
      ],
      "execution_count": 5,
      "outputs": [
        {
          "output_type": "stream",
          "text": [
            "input_1 = False\n",
            "block1_conv1 = True\n",
            "block1_conv2 = True\n",
            "block1_pool = True\n",
            "block2_conv1 = True\n",
            "block2_conv2 = True\n",
            "block2_pool = True\n",
            "block3_conv1 = True\n",
            "block3_conv2 = True\n",
            "block3_conv3 = True\n",
            "block3_pool = True\n",
            "block4_conv1 = True\n",
            "block4_conv2 = True\n",
            "block4_conv3 = True\n",
            "block4_pool = True\n",
            "block5_conv1 = True\n",
            "block5_conv2 = True\n",
            "block5_conv3 = True\n",
            "block5_pool = True\n"
          ],
          "name": "stdout"
        }
      ]
    },
    {
      "cell_type": "code",
      "metadata": {
        "id": "OmSZLETlJy0q",
        "colab_type": "code",
        "colab": {}
      },
      "source": [
        "# Freeze the layers except the last 4 layers\n",
        "#for layer in vgg16.layers[:-4]:\n",
        "#    layer.trainable = False"
      ],
      "execution_count": 0,
      "outputs": []
    },
    {
      "cell_type": "code",
      "metadata": {
        "id": "MZ3sA3tZJy0t",
        "colab_type": "code",
        "outputId": "b968d838-a2e6-4eff-a295-4a6433927f62",
        "colab": {
          "base_uri": "https://localhost:8080/",
          "height": 377
        }
      },
      "source": [
        "# Create the model\n",
        "model = Sequential()\n",
        " \n",
        "# Add the vgg convolutional base model\n",
        "model.add(vgg16)\n",
        "\n",
        "# Add new layers\n",
        "model.add(Flatten())\n",
        "model.add(Dense(1024, activation='relu'))\n",
        "model.add(Dropout(0.5))\n",
        "model.add(Dense(101, activation='softmax'))\n",
        "\n",
        "#sgd = SGD(lr=0.01, decay=1e-6, momentum=1, nesterov=True)\n",
        "model.compile(optimizer='adam',\n",
        "              loss='categorical_crossentropy',\n",
        "              metrics=['accuracy'])\n",
        "\n",
        "model.summary()"
      ],
      "execution_count": 7,
      "outputs": [
        {
          "output_type": "stream",
          "text": [
            "WARNING:tensorflow:From /usr/local/lib/python3.6/dist-packages/keras/backend/tensorflow_backend.py:3445: calling dropout (from tensorflow.python.ops.nn_ops) with keep_prob is deprecated and will be removed in a future version.\n",
            "Instructions for updating:\n",
            "Please use `rate` instead of `keep_prob`. Rate should be set to `rate = 1 - keep_prob`.\n",
            "_________________________________________________________________\n",
            "Layer (type)                 Output Shape              Param #   \n",
            "=================================================================\n",
            "vgg16 (Model)                (None, 7, 7, 512)         14714688  \n",
            "_________________________________________________________________\n",
            "flatten_1 (Flatten)          (None, 25088)             0         \n",
            "_________________________________________________________________\n",
            "dense_1 (Dense)              (None, 1024)              25691136  \n",
            "_________________________________________________________________\n",
            "dropout_1 (Dropout)          (None, 1024)              0         \n",
            "_________________________________________________________________\n",
            "dense_2 (Dense)              (None, 101)               103525    \n",
            "=================================================================\n",
            "Total params: 40,509,349\n",
            "Trainable params: 40,509,349\n",
            "Non-trainable params: 0\n",
            "_________________________________________________________________\n"
          ],
          "name": "stdout"
        }
      ]
    },
    {
      "cell_type": "code",
      "metadata": {
        "id": "oXwcRvfzJy0y",
        "colab_type": "code",
        "outputId": "c543c021-19dc-4d7a-f14b-36cb4a1b0258",
        "colab": {
          "base_uri": "https://localhost:8080/",
          "height": 34
        }
      },
      "source": [
        "train_datagen = ImageDataGenerator(\n",
        "      rescale=1./255,\n",
        "      rotation_range=20,\n",
        "      width_shift_range=0.2,\n",
        "      height_shift_range=0.2,\n",
        "      fill_mode='nearest')\n",
        "\n",
        "train_generator = train_datagen.flow_from_directory(\n",
        "        directory=train_data_dir,\n",
        "        target_size=(img_width, img_height),\n",
        "        batch_size=64,\n",
        "        class_mode='categorical')"
      ],
      "execution_count": 8,
      "outputs": [
        {
          "output_type": "stream",
          "text": [
            "Found 52262 images belonging to 101 classes.\n"
          ],
          "name": "stdout"
        }
      ]
    },
    {
      "cell_type": "code",
      "metadata": {
        "id": "T0UE78nSJy00",
        "colab_type": "code",
        "outputId": "ba2b62e6-b644-4da4-a6ad-0bd9a9136613",
        "colab": {
          "base_uri": "https://localhost:8080/",
          "height": 34
        }
      },
      "source": [
        "validation_datagen = ImageDataGenerator(rescale=1./255)\n",
        " \n",
        "validation_generator = validation_datagen.flow_from_directory(\n",
        "        directory=validation_data_dir,\n",
        "        target_size=(img_width, img_height),\n",
        "        batch_size=64,\n",
        "        class_mode='categorical',\n",
        "        shuffle=False)"
      ],
      "execution_count": 9,
      "outputs": [
        {
          "output_type": "stream",
          "text": [
            "Found 17540 images belonging to 101 classes.\n"
          ],
          "name": "stdout"
        }
      ]
    },
    {
      "cell_type": "code",
      "metadata": {
        "id": "m7lCHhmTJy02",
        "colab_type": "code",
        "outputId": "1cabebeb-42ec-4cc8-e78b-17f56b2da5c9",
        "colab": {
          "base_uri": "https://localhost:8080/",
          "height": 357
        }
      },
      "source": [
        "history = model.fit_generator(\n",
        "      train_generator,\n",
        "      steps_per_epoch=train_generator.samples/train_generator.batch_size,\n",
        "      epochs=10,\n",
        "      validation_data=validation_generator,\n",
        "      validation_steps=validation_generator.samples/validation_generator.batch_size,\n",
        "      verbose=1)"
      ],
      "execution_count": 17,
      "outputs": [
        {
          "output_type": "stream",
          "text": [
            "Epoch 1/10\n",
            "817/816 [==============================] - 856s 1s/step - loss: 4.5980 - acc: 0.0188 - val_loss: 4.5974 - val_acc: 0.0187\n",
            "Epoch 2/10\n",
            "817/816 [==============================] - 851s 1s/step - loss: 4.5981 - acc: 0.0189 - val_loss: 4.5974 - val_acc: 0.0187\n",
            "Epoch 3/10\n",
            "817/816 [==============================] - 848s 1s/step - loss: 4.5976 - acc: 0.0187 - val_loss: 4.5974 - val_acc: 0.0187\n",
            "Epoch 4/10\n",
            "817/816 [==============================] - 851s 1s/step - loss: 4.5978 - acc: 0.0190 - val_loss: 4.5974 - val_acc: 0.0187\n",
            "Epoch 5/10\n",
            "817/816 [==============================] - 849s 1s/step - loss: 4.5976 - acc: 0.0186 - val_loss: 4.5975 - val_acc: 0.0187\n",
            "Epoch 6/10\n",
            "817/816 [==============================] - 851s 1s/step - loss: 4.5979 - acc: 0.0188 - val_loss: 4.5974 - val_acc: 0.0187\n",
            "Epoch 7/10\n",
            "817/816 [==============================] - 848s 1s/step - loss: 4.5974 - acc: 0.0190 - val_loss: 4.5974 - val_acc: 0.0187\n",
            "Epoch 8/10\n",
            "817/816 [==============================] - 850s 1s/step - loss: 4.5977 - acc: 0.0186 - val_loss: 4.5974 - val_acc: 0.0187\n",
            "Epoch 9/10\n",
            "817/816 [==============================] - 849s 1s/step - loss: 4.5972 - acc: 0.0190 - val_loss: 4.5974 - val_acc: 0.0187\n",
            "Epoch 10/10\n",
            "817/816 [==============================] - 851s 1s/step - loss: 4.5975 - acc: 0.0188 - val_loss: 4.5974 - val_acc: 0.0187\n"
          ],
          "name": "stdout"
        }
      ]
    },
    {
      "cell_type": "code",
      "metadata": {
        "id": "Zf2d81gpJy05",
        "colab_type": "code",
        "colab": {
          "base_uri": "https://localhost:8080/",
          "height": 545
        },
        "outputId": "83d76745-2db5-4dfd-bfc3-8b7d5bf85bc3"
      },
      "source": [
        "acc = history.history['acc']\n",
        "val_acc = history.history['val_acc']\n",
        "loss = history.history['loss']\n",
        "val_loss = history.history['val_loss']\n",
        " \n",
        "epochs = range(len(acc))\n",
        " \n",
        "plt.plot(epochs, acc, 'b', label='Training acc')\n",
        "plt.plot(epochs, val_acc, 'r', label='Validation acc')\n",
        "plt.title('Training and validation accuracy')\n",
        "plt.legend()\n",
        " \n",
        "plt.figure()\n",
        " \n",
        "plt.plot(epochs, loss, 'b', label='Training loss')\n",
        "plt.plot(epochs, val_loss, 'r', label='Validation loss')\n",
        "plt.title('Training and validation loss')\n",
        "plt.legend()\n",
        " \n",
        "plt.show()"
      ],
      "execution_count": 11,
      "outputs": [
        {
          "output_type": "display_data",
          "data": {
            "image/png": "[encoded data removed]",
            "text/plain": [
              "<Figure size 432x288 with 1 Axes>"
            ]
          },
          "metadata": {
            "tags": []
          }
        },
        {
          "output_type": "display_data",
          "data": {
            "image/png": "[encoded data removed]",
            "text/plain": [
              "<Figure size 432x288 with 1 Axes>"
            ]
          },
          "metadata": {
            "tags": []
          }
        }
      ]
    },
    {
      "cell_type": "code",
      "metadata": {
        "id": "SeLtLTu4Jy09",
        "colab_type": "code",
        "colab": {
          "base_uri": "https://localhost:8080/",
          "height": 34
        },
        "outputId": "dc65a4ea-6eb1-4a93-ccad-3f1477bbd68d"
      },
      "source": [
        "model.evaluate_generator(generator=validation_generator, steps=validation_generator.samples/validation_generator.batch_size)"
      ],
      "execution_count": 12,
      "outputs": [
        {
          "output_type": "execute_result",
          "data": {
            "text/plain": [
              "[4.597553641059379, 0.018700114025085517]"
            ]
          },
          "metadata": {
            "tags": []
          },
          "execution_count": 12
        }
      ]
    },
    {
      "cell_type": "code",
      "metadata": {
        "id": "g9Omzy29ik_A",
        "colab_type": "code",
        "colab": {
          "base_uri": "https://localhost:8080/",
          "height": 34
        },
        "outputId": "9462a0fd-54e2-4a7a-cc75-c240dc2e0db6"
      },
      "source": [
        "test_datagen = ImageDataGenerator()\n",
        "test_generator = test_datagen.flow_from_directory(\n",
        "    directory=test_data_dir,\n",
        "    target_size=(img_width, img_height),\n",
        "    color_mode=\"rgb\",\n",
        "    batch_size=1,\n",
        "    class_mode=None,\n",
        ")"
      ],
      "execution_count": 13,
      "outputs": [
        {
          "output_type": "stream",
          "text": [
            "Found 106 images belonging to 1 classes.\n"
          ],
          "name": "stdout"
        }
      ]
    },
    {
      "cell_type": "code",
      "metadata": {
        "id": "D9v9ak3Gi4j2",
        "colab_type": "code",
        "colab": {
          "base_uri": "https://localhost:8080/",
          "height": 7276
        },
        "outputId": "be1d6aba-c69c-4580-9d0f-a59b2f9000fb"
      },
      "source": [
        "pred=model.predict_generator(test_generator,steps=test_generator.n//test_generator.batch_size,verbose=1)\n",
        "\n",
        "predicted_class_indices=np.argmax(pred,axis=1)\n",
        "labels = (train_generator.class_indices)\n",
        "labels = dict((v,k) for k,v in labels.items())\n",
        "predictions = [labels[k] for k in predicted_class_indices]\n",
        "\n",
        "filenames=test_generator.filenames\n",
        "print(\"Nueral Network Output Results\")\n",
        "print(\"-----------------------------\")\n",
        "for actual, expected in zip(filenames, predictions):\n",
        "    print(\"Actual Picture = \" + actual, \"\\nExpected Output = \" + expected)\n",
        "    print(\"\\n\")"
      ],
      "execution_count": 14,
      "outputs": [
        {
          "output_type": "stream",
          "text": [
            "106/106 [==============================] - 19s 177ms/step\n",
            "Nueral Network Output Results\n",
            "-----------------------------\n",
            "Actual Picture = test_folder/Bananas(lady_finger)1.jpg \n",
            "Expected Output = Grape Blue\n",
            "\n",
            "\n",
            "Actual Picture = test_folder/Bananas(lady_finger)2.jpg \n",
            "Expected Output = Grape Blue\n",
            "\n",
            "\n",
            "Actual Picture = test_folder/Bananas(lady_finger)3.jpg \n",
            "Expected Output = Grape Blue\n",
            "\n",
            "\n",
            "Actual Picture = test_folder/Bananas(lady_finger)4.jpg \n",
            "Expected Output = Grape Blue\n",
            "\n",
            "\n",
            "Actual Picture = test_folder/Bananas(lady_finger)5.jpg \n",
            "Expected Output = Grape Blue\n",
            "\n",
            "\n",
            "Actual Picture = test_folder/apple.jpg \n",
            "Expected Output = Grape Blue\n",
            "\n",
            "\n",
            "Actual Picture = test_folder/apple_apricot_nectarine_peach_peach(flat)_pomegranate_pear_plum.jpg \n",
            "Expected Output = Grape Blue\n",
            "\n",
            "\n",
            "Actual Picture = test_folder/apple_apricot_peach_peach(flat)_pomegranate_pear_plum.jpg \n",
            "Expected Output = Plum 3\n",
            "\n",
            "\n",
            "Actual Picture = test_folder/apple_apricot_peach_peach(flat)_pomegranate_pear_plum_2.jpg \n",
            "Expected Output = Grape Blue\n",
            "\n",
            "\n",
            "Actual Picture = test_folder/apple_apricot_peach_peach(flat)_pomegranate_pear_plum_3.jpg \n",
            "Expected Output = Grape Blue\n",
            "\n",
            "\n",
            "Actual Picture = test_folder/apple_grape.jpg \n",
            "Expected Output = Grape Blue\n",
            "\n",
            "\n",
            "Actual Picture = test_folder/apple_grape2.jpg \n",
            "Expected Output = Grape Blue\n",
            "\n",
            "\n",
            "Actual Picture = test_folder/apple_pear.jpg \n",
            "Expected Output = Plum 3\n",
            "\n",
            "\n",
            "Actual Picture = test_folder/apples1.jpg \n",
            "Expected Output = Grape Blue\n",
            "\n",
            "\n",
            "Actual Picture = test_folder/apples2.jpg \n",
            "Expected Output = Grape Blue\n",
            "\n",
            "\n",
            "Actual Picture = test_folder/apples3.jpg \n",
            "Expected Output = Grape Blue\n",
            "\n",
            "\n",
            "Actual Picture = test_folder/apples4.jpg \n",
            "Expected Output = Grape Blue\n",
            "\n",
            "\n",
            "Actual Picture = test_folder/apples_peaches1.jpg \n",
            "Expected Output = Plum 3\n",
            "\n",
            "\n",
            "Actual Picture = test_folder/apples_peaches2.jpg \n",
            "Expected Output = Grape Blue\n",
            "\n",
            "\n",
            "Actual Picture = test_folder/apples_pears.jpg \n",
            "Expected Output = Plum 3\n",
            "\n",
            "\n",
            "Actual Picture = test_folder/cactus fruits.jpg \n",
            "Expected Output = Grape Blue\n",
            "\n",
            "\n",
            "Actual Picture = test_folder/cherries(rainier)1.jpg \n",
            "Expected Output = Grape Blue\n",
            "\n",
            "\n",
            "Actual Picture = test_folder/cherries(rainier)2.jpg \n",
            "Expected Output = Grape Blue\n",
            "\n",
            "\n",
            "Actual Picture = test_folder/cherries.jpg \n",
            "Expected Output = Grape Blue\n",
            "\n",
            "\n",
            "Actual Picture = test_folder/cherries2.jpg \n",
            "Expected Output = Grape Blue\n",
            "\n",
            "\n",
            "Actual Picture = test_folder/cherries3.jpg \n",
            "Expected Output = Grape Blue\n",
            "\n",
            "\n",
            "Actual Picture = test_folder/cherries4.jpg \n",
            "Expected Output = Grape Blue\n",
            "\n",
            "\n",
            "Actual Picture = test_folder/cherries5.jpg \n",
            "Expected Output = Grape Blue\n",
            "\n",
            "\n",
            "Actual Picture = test_folder/cherries6.jpg \n",
            "Expected Output = Grape Blue\n",
            "\n",
            "\n",
            "Actual Picture = test_folder/cherries7.jpg \n",
            "Expected Output = Grape Blue\n",
            "\n",
            "\n",
            "Actual Picture = test_folder/cherries8.jpg \n",
            "Expected Output = Grape Blue\n",
            "\n",
            "\n",
            "Actual Picture = test_folder/cherries_strawberries1.jpg \n",
            "Expected Output = Grape Blue\n",
            "\n",
            "\n",
            "Actual Picture = test_folder/cherries_strawberries2.jpg \n",
            "Expected Output = Grape Blue\n",
            "\n",
            "\n",
            "Actual Picture = test_folder/cherries_wax1.jpg \n",
            "Expected Output = Grape Blue\n",
            "\n",
            "\n",
            "Actual Picture = test_folder/cherries_wax2.jpg \n",
            "Expected Output = Plum 3\n",
            "\n",
            "\n",
            "Actual Picture = test_folder/cherries_wax3.jpg \n",
            "Expected Output = Grape Blue\n",
            "\n",
            "\n",
            "Actual Picture = test_folder/cherries_wax4.jpg \n",
            "Expected Output = Grape Blue\n",
            "\n",
            "\n",
            "Actual Picture = test_folder/cherries_wax5.jpg \n",
            "Expected Output = Grape Blue\n",
            "\n",
            "\n",
            "Actual Picture = test_folder/cherries_wax6.jpg \n",
            "Expected Output = Grape Blue\n",
            "\n",
            "\n",
            "Actual Picture = test_folder/cherries_wax7.jpg \n",
            "Expected Output = Grape Blue\n",
            "\n",
            "\n",
            "Actual Picture = test_folder/cherry(rainier).jpg \n",
            "Expected Output = Grape Blue\n",
            "\n",
            "\n",
            "Actual Picture = test_folder/cherry.jpg \n",
            "Expected Output = Grape Blue\n",
            "\n",
            "\n",
            "Actual Picture = test_folder/cherry2.jpg \n",
            "Expected Output = Grape Blue\n",
            "\n",
            "\n",
            "Actual Picture = test_folder/cherry3.jpg \n",
            "Expected Output = Grape Blue\n",
            "\n",
            "\n",
            "Actual Picture = test_folder/cherry_strawberries.jpg \n",
            "Expected Output = Grape Blue\n",
            "\n",
            "\n",
            "Actual Picture = test_folder/cherry_strawberries2.jpg \n",
            "Expected Output = Grape Blue\n",
            "\n",
            "\n",
            "Actual Picture = test_folder/chestnut1.jpg \n",
            "Expected Output = Grape Blue\n",
            "\n",
            "\n",
            "Actual Picture = test_folder/chestnut3.jpg \n",
            "Expected Output = Plum 3\n",
            "\n",
            "\n",
            "Actual Picture = test_folder/cocos.jpg \n",
            "Expected Output = Grape Blue\n",
            "\n",
            "\n",
            "Actual Picture = test_folder/cocos_kiwi_orange_dates_salak_plum_tamarilo_maracuja.jpg \n",
            "Expected Output = Grape Blue\n",
            "\n",
            "\n",
            "Actual Picture = test_folder/cocos_kiwi_orange_dates_salak_plum_tamarilo_maracuja2.jpg \n",
            "Expected Output = Grape Blue\n",
            "\n",
            "\n",
            "Actual Picture = test_folder/cocos_kiwi_orange_dates_salak_plum_tamarilo_maracuja3.jpg \n",
            "Expected Output = Grape Blue\n",
            "\n",
            "\n",
            "Actual Picture = test_folder/dates.jpg \n",
            "Expected Output = Grape Blue\n",
            "\n",
            "\n",
            "Actual Picture = test_folder/grape_pear_mandarine.jpg \n",
            "Expected Output = Grape Blue\n",
            "\n",
            "\n",
            "Actual Picture = test_folder/grape_pear_mandarine2.jpg \n",
            "Expected Output = Grape Blue\n",
            "\n",
            "\n",
            "Actual Picture = test_folder/huckleberry.jpg \n",
            "Expected Output = Grape Blue\n",
            "\n",
            "\n",
            "Actual Picture = test_folder/kachi.jpg \n",
            "Expected Output = Grape Blue\n",
            "\n",
            "\n",
            "Actual Picture = test_folder/kiwi.jpg \n",
            "Expected Output = Grape Blue\n",
            "\n",
            "\n",
            "Actual Picture = test_folder/limes.jpg \n",
            "Expected Output = Grape Blue\n",
            "\n",
            "\n",
            "Actual Picture = test_folder/lychee.jpg \n",
            "Expected Output = Plum 3\n",
            "\n",
            "\n",
            "Actual Picture = test_folder/mango.jpg \n",
            "Expected Output = Grape Blue\n",
            "\n",
            "\n",
            "Actual Picture = test_folder/mangos1.jpg \n",
            "Expected Output = Grape Blue\n",
            "\n",
            "\n",
            "Actual Picture = test_folder/mangos2.jpg \n",
            "Expected Output = Grape Blue\n",
            "\n",
            "\n",
            "Actual Picture = test_folder/mangos3.jpg \n",
            "Expected Output = Grape Blue\n",
            "\n",
            "\n",
            "Actual Picture = test_folder/mangos_bananas(lady_finger).jpg \n",
            "Expected Output = Grape Blue\n",
            "\n",
            "\n",
            "Actual Picture = test_folder/peaches.jpg \n",
            "Expected Output = Grape Blue\n",
            "\n",
            "\n",
            "Actual Picture = test_folder/pear.jpg \n",
            "Expected Output = Grape Blue\n",
            "\n",
            "\n",
            "Actual Picture = test_folder/pears1.jpg \n",
            "Expected Output = Grape Blue\n",
            "\n",
            "\n",
            "Actual Picture = test_folder/pears2.jpg \n",
            "Expected Output = Grape Blue\n",
            "\n",
            "\n",
            "Actual Picture = test_folder/physalis.jpg \n",
            "Expected Output = Grape Blue\n",
            "\n",
            "\n",
            "Actual Picture = test_folder/physalis1.jpg \n",
            "Expected Output = Grape Blue\n",
            "\n",
            "\n",
            "Actual Picture = test_folder/physalis2.jpg \n",
            "Expected Output = Grape Blue\n",
            "\n",
            "\n",
            "Actual Picture = test_folder/plums_pears.jpg \n",
            "Expected Output = Grape Blue\n",
            "\n",
            "\n",
            "Actual Picture = test_folder/pomegranate.jpg \n",
            "Expected Output = Grape Blue\n",
            "\n",
            "\n",
            "Actual Picture = test_folder/pomegranate2.jpg \n",
            "Expected Output = Grape Blue\n",
            "\n",
            "\n",
            "Actual Picture = test_folder/raspberries1.jpg \n",
            "Expected Output = Grape Blue\n",
            "\n",
            "\n",
            "Actual Picture = test_folder/raspberries10.jpg \n",
            "Expected Output = Grape Blue\n",
            "\n",
            "\n",
            "Actual Picture = test_folder/raspberries11.jpg \n",
            "Expected Output = Grape Blue\n",
            "\n",
            "\n",
            "Actual Picture = test_folder/raspberries12.jpg \n",
            "Expected Output = Grape Blue\n",
            "\n",
            "\n",
            "Actual Picture = test_folder/raspberries2.jpg \n",
            "Expected Output = Grape Blue\n",
            "\n",
            "\n",
            "Actual Picture = test_folder/raspberries3.jpg \n",
            "Expected Output = Grape Blue\n",
            "\n",
            "\n",
            "Actual Picture = test_folder/raspberries4.jpg \n",
            "Expected Output = Grape Blue\n",
            "\n",
            "\n",
            "Actual Picture = test_folder/raspberries5.jpg \n",
            "Expected Output = Grape Blue\n",
            "\n",
            "\n",
            "Actual Picture = test_folder/raspberries6.jpg \n",
            "Expected Output = Grape Blue\n",
            "\n",
            "\n",
            "Actual Picture = test_folder/raspberries7.jpg \n",
            "Expected Output = Grape Blue\n",
            "\n",
            "\n",
            "Actual Picture = test_folder/raspberries8.jpg \n",
            "Expected Output = Grape Blue\n",
            "\n",
            "\n",
            "Actual Picture = test_folder/raspberries9.jpg \n",
            "Expected Output = Grape Blue\n",
            "\n",
            "\n",
            "Actual Picture = test_folder/raspberry.jpg \n",
            "Expected Output = Grape Blue\n",
            "\n",
            "\n",
            "Actual Picture = test_folder/raspberry2.jpg \n",
            "Expected Output = Grape Blue\n",
            "\n",
            "\n",
            "Actual Picture = test_folder/raspberry3.jpg \n",
            "Expected Output = Grape Blue\n",
            "\n",
            "\n",
            "Actual Picture = test_folder/raspberry4.jpg \n",
            "Expected Output = Grape Blue\n",
            "\n",
            "\n",
            "Actual Picture = test_folder/raspberry5.jpg \n",
            "Expected Output = Plum 3\n",
            "\n",
            "\n",
            "Actual Picture = test_folder/raspberry_apple.jpg \n",
            "Expected Output = Grape Blue\n",
            "\n",
            "\n",
            "Actual Picture = test_folder/salak.jpg \n",
            "Expected Output = Grape Blue\n",
            "\n",
            "\n",
            "Actual Picture = test_folder/salak2.jpg \n",
            "Expected Output = Grape Blue\n",
            "\n",
            "\n",
            "Actual Picture = test_folder/strawberries.jpg \n",
            "Expected Output = Grape Blue\n",
            "\n",
            "\n",
            "Actual Picture = test_folder/strawberries2.jpg \n",
            "Expected Output = Grape Blue\n",
            "\n",
            "\n",
            "Actual Picture = test_folder/strawberries3.jpg \n",
            "Expected Output = Grape Blue\n",
            "\n",
            "\n",
            "Actual Picture = test_folder/strawberries4.jpg \n",
            "Expected Output = Grape Blue\n",
            "\n",
            "\n",
            "Actual Picture = test_folder/strawberries5.jpg \n",
            "Expected Output = Grape Blue\n",
            "\n",
            "\n",
            "Actual Picture = test_folder/tangelo.jpg \n",
            "Expected Output = Grape Blue\n",
            "\n",
            "\n",
            "Actual Picture = test_folder/tomatoes1.jpg \n",
            "Expected Output = Grape Blue\n",
            "\n",
            "\n",
            "Actual Picture = test_folder/tomatoes2.jpg \n",
            "Expected Output = Grape Blue\n",
            "\n",
            "\n",
            "Actual Picture = test_folder/tomatoes3.jpg \n",
            "Expected Output = Grape Blue\n",
            "\n",
            "\n",
            "Actual Picture = test_folder/tomatoes4.jpg \n",
            "Expected Output = Grape Blue\n",
            "\n",
            "\n",
            "Actual Picture = test_folder/tomatoes5.jpg \n",
            "Expected Output = Grape Blue\n",
            "\n",
            "\n"
          ],
          "name": "stdout"
        }
      ]
    },
    {
      "cell_type": "code",
      "metadata": {
        "id": "PQk5Bs_kR6v0",
        "colab_type": "code",
        "colab": {}
      },
      "source": [
        "#!git clone -l -s git://github.com/aiman1717a/ai_project.git ai_project"
      ],
      "execution_count": 0,
      "outputs": []
    },
    {
      "cell_type": "code",
      "metadata": {
        "id": "kfK1znvdxigw",
        "colab_type": "code",
        "colab": {}
      },
      "source": [
        "#from tensorflow.python.client import device_lib\n",
        "#print(device_lib.list_local_devices())"
      ],
      "execution_count": 0,
      "outputs": []
    }
  ]
}